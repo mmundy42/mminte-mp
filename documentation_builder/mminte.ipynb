{
 "cells": [
  {
   "cell_type": "markdown",
   "metadata": {},
   "source": [
    "## MMinte multiprocessor\n",
    "\n",
    "mminte-mp is a multiprocessor implementation of the core MMinte algorithm that improves performance when analyzing a large microbial network. There are two functions for calculating the pairwise interactions in the microbial network.\n",
    "\n",
    "1. `create_interaction_models()` takes a list of single species models, creates all of the two species models needed for the analysis, and returns a list of two species models.\n",
    "2. `calculate_growth_rates()` takes a list of two species models and a media file, calculates the growth rates of the pairs in the specified media, and returns a DataFrame with the results.\n",
    "\n",
    "For a single species model to be used by mminte-mp it must meet these requirements:\n",
    "\n",
    "1. Reaction and metabolite IDs must have a compartment suffix using one of two\n",
    "   types. A \"bigg\" compartment suffix has the format \"[x]\" where x is a single\n",
    "   character compartment ID (for example, \"[c]\" for cytosol compartment). A\n",
    "   \"modelseed\" compartment suffix has the format \"\\_x\" where x is a single character\n",
    "   compartment ID (for example \"\\_c\" for cytosol compartment). You can mix ID types\n",
    "   in the same model.\n",
    "2. There can be only one objective to optimize for growth in each source model.\n",
    "3. Exchange reactions are identified by an 'EX\\_' prefix on the reaction ID.\n",
    "4. Exchange reactions have only one metabolite with a negative coefficient.\n",
    "\n",
    "A media file is in JSON format and contains a dictionary with an exchange reaction ID as the key and lower and upper bounds of the exchange reaction as the value. For example,\n",
    "\n",
    "    {'EX_h2o': [0.0, 1000.0],\n",
    "     'EX_h2s': [-1.0, 1000.0],\n",
    "     'EX_pi': [-10.0, 1000.0],\n",
    "     ...\n",
    "    }\n"
   ]
  },
  {
   "cell_type": "code",
   "execution_count": 1,
   "metadata": {
    "collapsed": false
   },
   "outputs": [],
   "source": [
    "import mminte"
   ]
  },
  {
   "cell_type": "markdown",
   "metadata": {},
   "source": [
    "First, create the two species community models for all pairs in a microbial network. In the example below there are four species in the microbial network which creates six two species models."
   ]
  },
  {
   "cell_type": "code",
   "execution_count": 2,
   "metadata": {
    "collapsed": false
   },
   "outputs": [],
   "source": [
    "pair_models = mminte.create_interaction_models(['../mminte/test/data/BT.sbml', '../mminte/test/data/FP.sbml', '../mminte/test/data/HP.sbml', '../mminte/test/data/KP.sbml'], output_folder='../mminte/test/data')"
   ]
  },
  {
   "cell_type": "markdown",
   "metadata": {},
   "source": [
    "Second, calculate growth rates for all pairs in the microbial network in the specified media condition. The media conditions are specified in a json file that is a dictionary keyed by exchange reaction ID and value is a tuple with lower bound and upper bound."
   ]
  },
  {
   "cell_type": "code",
   "execution_count": 3,
   "metadata": {
    "collapsed": false
   },
   "outputs": [],
   "source": [
    "growth_rates = mminte.calculate_growth_rates(pair_models, '../mminte/test/data/western.json')"
   ]
  },
  {
   "cell_type": "markdown",
   "metadata": {},
   "source": [
    "The results are returned in a DataFrame with the following columns:\n",
    "\n",
    "1. A_ID - ID of first species\n",
    "2. B_ID - ID of second species\n",
    "3. TYPE - Type of interaction between the two species\n",
    "4. TOGETHER - Growth rate of both species together\n",
    "5. A_TOGETHER - Growth rate of first species when grown in presence of second species\n",
    "6. B_TOGETHER - Growth rate of second species when grown in presence of first species\n",
    "7. A_ALONE - Growth rate of first species when grown in absense of second species\n",
    "8. B_ALONE - Growth rate of second species when grown in absense of first species\n",
    "9. A_CHANGE - Percent change in growth rate of first species\n",
    "10. B_CHANGE - Percent change in growth rate of second species"
   ]
  },
  {
   "cell_type": "code",
   "execution_count": 4,
   "metadata": {
    "collapsed": false
   },
   "outputs": [
    {
     "data": {
      "text/html": [
       "<div>\n",
       "<table border=\"1\" class=\"dataframe\">\n",
       "  <thead>\n",
       "    <tr style=\"text-align: right;\">\n",
       "      <th></th>\n",
       "      <th>A_ID</th>\n",
       "      <th>B_ID</th>\n",
       "      <th>TYPE</th>\n",
       "      <th>TOGETHER</th>\n",
       "      <th>A_TOGETHER</th>\n",
       "      <th>B_TOGETHER</th>\n",
       "      <th>A_ALONE</th>\n",
       "      <th>B_ALONE</th>\n",
       "      <th>A_CHANGE</th>\n",
       "      <th>B_CHANGE</th>\n",
       "    </tr>\n",
       "  </thead>\n",
       "  <tbody>\n",
       "    <tr>\n",
       "      <th>0</th>\n",
       "      <td>BT</td>\n",
       "      <td>FP</td>\n",
       "      <td>Parasitism</td>\n",
       "      <td>0.495075</td>\n",
       "      <td>2.774626e-01</td>\n",
       "      <td>0.217612</td>\n",
       "      <td>0.440738</td>\n",
       "      <td>0.169338</td>\n",
       "      <td>-0.370460</td>\n",
       "      <td>0.285078</td>\n",
       "    </tr>\n",
       "    <tr>\n",
       "      <th>1</th>\n",
       "      <td>BT</td>\n",
       "      <td>HP</td>\n",
       "      <td>Parasitism</td>\n",
       "      <td>0.500853</td>\n",
       "      <td>3.645653e-02</td>\n",
       "      <td>0.464396</td>\n",
       "      <td>0.440738</td>\n",
       "      <td>0.197557</td>\n",
       "      <td>-0.917283</td>\n",
       "      <td>1.350692</td>\n",
       "    </tr>\n",
       "    <tr>\n",
       "      <th>2</th>\n",
       "      <td>BT</td>\n",
       "      <td>KP</td>\n",
       "      <td>Parasitism</td>\n",
       "      <td>0.586633</td>\n",
       "      <td>0.000000e+00</td>\n",
       "      <td>0.586633</td>\n",
       "      <td>0.440738</td>\n",
       "      <td>0.510884</td>\n",
       "      <td>-1.000000</td>\n",
       "      <td>0.148269</td>\n",
       "    </tr>\n",
       "    <tr>\n",
       "      <th>3</th>\n",
       "      <td>FP</td>\n",
       "      <td>HP</td>\n",
       "      <td>Commensalism</td>\n",
       "      <td>0.431667</td>\n",
       "      <td>1.775634e-01</td>\n",
       "      <td>0.254104</td>\n",
       "      <td>0.169338</td>\n",
       "      <td>0.197557</td>\n",
       "      <td>0.048574</td>\n",
       "      <td>0.286228</td>\n",
       "    </tr>\n",
       "    <tr>\n",
       "      <th>4</th>\n",
       "      <td>FP</td>\n",
       "      <td>KP</td>\n",
       "      <td>Amensalism</td>\n",
       "      <td>0.545572</td>\n",
       "      <td>3.556715e-14</td>\n",
       "      <td>0.545572</td>\n",
       "      <td>0.169338</td>\n",
       "      <td>0.510884</td>\n",
       "      <td>-1.000000</td>\n",
       "      <td>0.067898</td>\n",
       "    </tr>\n",
       "    <tr>\n",
       "      <th>5</th>\n",
       "      <td>HP</td>\n",
       "      <td>KP</td>\n",
       "      <td>Amensalism</td>\n",
       "      <td>0.540178</td>\n",
       "      <td>0.000000e+00</td>\n",
       "      <td>0.540178</td>\n",
       "      <td>0.197557</td>\n",
       "      <td>0.510884</td>\n",
       "      <td>-1.000000</td>\n",
       "      <td>0.057339</td>\n",
       "    </tr>\n",
       "  </tbody>\n",
       "</table>\n",
       "</div>"
      ],
      "text/plain": [
       "  A_ID B_ID          TYPE  TOGETHER    A_TOGETHER  B_TOGETHER   A_ALONE  \\\n",
       "0   BT   FP    Parasitism  0.495075  2.774626e-01    0.217612  0.440738   \n",
       "1   BT   HP    Parasitism  0.500853  3.645653e-02    0.464396  0.440738   \n",
       "2   BT   KP    Parasitism  0.586633  0.000000e+00    0.586633  0.440738   \n",
       "3   FP   HP  Commensalism  0.431667  1.775634e-01    0.254104  0.169338   \n",
       "4   FP   KP    Amensalism  0.545572  3.556715e-14    0.545572  0.169338   \n",
       "5   HP   KP    Amensalism  0.540178  0.000000e+00    0.540178  0.197557   \n",
       "\n",
       "    B_ALONE  A_CHANGE  B_CHANGE  \n",
       "0  0.169338 -0.370460  0.285078  \n",
       "1  0.197557 -0.917283  1.350692  \n",
       "2  0.510884 -1.000000  0.148269  \n",
       "3  0.197557  0.048574  0.286228  \n",
       "4  0.510884 -1.000000  0.067898  \n",
       "5  0.510884 -1.000000  0.057339  "
      ]
     },
     "execution_count": 4,
     "metadata": {},
     "output_type": "execute_result"
    }
   ],
   "source": [
    "growth_rates"
   ]
  }
 ],
 "metadata": {
  "kernelspec": {
   "display_name": "mminte-mp Python 27",
   "language": "python",
   "name": "mminte-mp python 27"
  },
  "language_info": {
   "codemirror_mode": {
    "name": "ipython",
    "version": 2
   },
   "file_extension": ".py",
   "mimetype": "text/x-python",
   "name": "python",
   "nbconvert_exporter": "python",
   "pygments_lexer": "ipython2",
   "version": "2.7.11"
  }
 },
 "nbformat": 4,
 "nbformat_minor": 0
}
